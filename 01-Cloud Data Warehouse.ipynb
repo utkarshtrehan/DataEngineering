{
 "cells": [
  {
   "cell_type": "markdown",
   "id": "f50cb8c8-fa79-45a8-a8ea-67bd5e158684",
   "metadata": {},
   "source": [
    "# Cloud Data Warehouse"
   ]
  },
  {
   "cell_type": "markdown",
   "id": "bc5ee57e-bd35-4d1a-9830-dea57927b8dd",
   "metadata": {},
   "source": [
    "## Data Warehouse\n",
    "\n",
    "### A Business Perspective\n",
    "You are in charge of a retailer’s data infrastructure. Let’s look at some business activities.\n",
    "\n",
    "Customers should be able to find goods & make orders\n",
    "Inventory Staff should be able to stock, retrieve, and re-order goods\n",
    "Delivery Staff should be able to pick up & deliver goods\n",
    "HR should be able to assess the performance of sales staff\n",
    "Marketing should be able to see the effect of different sales channels\n",
    "Management should be able to monitor sales growth\n",
    "Ask yourself: Can I build a database to support these activities? Are all of the above questions of the same nature?\n",
    "Let's take a closer look at details that may affect your data infrastructure.\n",
    "\n",
    "1. Retailer has a nation-wide presence → Scale?\n",
    "2. Acquired smaller retailers, brick & mortar shops, online store → Single database? Complexity?\n",
    "3. Has support call center & social media accounts → Tabular data?\n",
    "4. Customers, Inventory Staff and Delivery staff expect the system to be fast & stable → Performance\n",
    "5. HR, Marketing & Sales Reports want a lot information but have not decided yet on everything they need → Clear Requirements?\n",
    "\n",
    "Ok, maybe one single relational database won’t suffice :)\n",
    "\n",
    "### Defination\n",
    "\n",
    "- A data warehouse is a copy of transaction data specifically structured for query and analysis. \n",
    "- A data warehouse is a subject-oriented, integrated, nonvolatile, and time-variant collection of data in support of management's decisions. \n",
    "- A data warehouse is a system that retrieves and consolidates data periodically from the source systems into a dimensional or normalized data store. It usually keeps years of history and is queried for business intelligence or other analytical activities. It is typically updated in batches, not every time a transaction happens in the source system. \n",
    "\n"
   ]
  },
  {
   "cell_type": "markdown",
   "id": "a570832a-1744-4efd-b35c-1b1c8fb09d7a",
   "metadata": {},
   "source": [
    "### Operational vs Analytical Business Processes \n",
    "**Operational Processes (Make it work!)**  \n",
    "- Find goods & make orders (for customers)   \n",
    "- Stock and find goods (for inventory staff)   \n",
    "- Pick up & deliver goods (for delivery staff)   \n",
    "\n",
    "**Analytical Processes (What is going on?)**\n",
    "- Assess the performance of sales staff (for HR) \n",
    "- See the effect of different sales channels (for marketing) \n",
    "- Mon>itor sales growth (for management) \n",
    "\n",
    "**Operational Databases** \n",
    "- Excellent for operations \n",
    "- No redundancy, high integrity \n",
    "\n",
    "**Operational Databases**\n",
    "- Too slow for analytics, too many joins\n",
    "- Too hard to understand \n",
    "\n",
    "<img src=\"images/image1.png\" alt=\"Drawing\" style=\"width: 600px;\"/>\n",
    "\n",
    "**? -> ETL**   \n",
    "**? -> Dimensional Model**\n",
    "- Extract the data and from the source systems used for operations, Transform the data and Load it into a dimensional model \n",
    "- The dimensional model is designed to a) make it easy for business users to work with the data, b) improve analytical queries performance \n",
    "- The technologies used for storing dimensional models are different than traditional technologies \n",
    "- Business-user-facing application are heeded, with clear visuals, aka Business Intelligence (BI) apps \n",
    "\n",
    "#### Dimensional Model (Easy to understand, Fast analytical query performance) \n",
    "**Star Schema**\n",
    "- joins with dimensions only \n",
    "- Good for OLAP not OLTP\n",
    "**Compated to 3NF**\n",
    "- Lots of expensive joins\n",
    "- Hard to explain to business users\n",
    "\n",
    "#### Facts & Dimensions\n",
    "\n",
    "**Fact tables:** Record business events, like an order, a phone call, a book review o Fact tables columns record events recorded in quantifiable metrics like quantity of an item, duration of a call, a book rating.  \n",
    "**Dimension tables:** Record the context of the business events, e.g. who, what, where, why, etc.. o Dimension tables columns contain attributes like the store at which an item is purchased, or the customer who made the call, etc.. \n",
    "\n",
    "**Fact or Dimension Dilemma**\n",
    "- **For facts, If you're unsure if a column is a fact or dimension, the simplest rule is that a fact is usually: Numeric  & Additive.**   \n",
    "\n",
    "- Examples facts: \n",
    "    - A comment on an article represents an event but we can not easily make a statistic out of its \n",
    "      content per se **(Not a good fact)** \n",
    "    - Invoice number is numeric but adding it does not make sense **(Not a good fact)** \n",
    "    - Total amount of an invoice could be added to compute total sales **(A good fact)**.   \n",
    "\n",
    "- Example dimensions: \n",
    "    - Date & time are always a dimension \n",
    "    - Physical locations and their attributes are good candidates dimensions \n",
    "    - Human Roles like customers and staff always good candidates for dimensions \n",
    "    - Goods sold always good candidates for dimensions.   \n",
    "\n",
    "<img src=\"images/image2.png\" alt=\"Drawing\" style=\"width: 400px;\"/>"
   ]
  },
  {
   "cell_type": "markdown",
   "id": "1ee6c07d-37a0-40b1-a06f-c393541c64cf",
   "metadata": {},
   "source": [
    "**Extact:** Query the 3NF DB  \n",
    "**Transform:**   \n",
    "   - Join tables togehter  \n",
    "   - Change types  \n",
    "   - Add new columns  \n",
    "**Load:** Insert into facts & dimension tables  "
   ]
  },
  {
   "cell_type": "markdown",
   "id": "3adc6137-379f-456c-9dda-ea8ae6dd656e",
   "metadata": {},
   "source": [
    "## DWH Architecture\n",
    "1. Kimball's Bus Architecture \n",
    "2. Independent Data Marts \n",
    "3. Inmon's Cocporate Information Factory (CIF) \n",
    "4. Hybrid Bus & CIF \n",
    "\n",
    "### Kimball's Bus Architecture\n",
    "\n",
    "<img src=\"images/image3.png\" alt=\"Drawing\" style=\"width: 600px;\"/>\n",
    "\n",
    "<img src=\"images/image4.png\" alt=\"Drawing\" style=\"width: 600px;\"/>\n",
    "\n",
    "**ETL: A Closer Look** \n",
    "- Extracting: \n",
    "    - Get the data from its source\n",
    "    - Postibly deleting old state \n",
    "- Transforrning: \n",
    "    - Integrates many sources together \n",
    "    - Possibly cleansing: inconsistencies, duplication, missing values, etc..\n",
    "    - Possibly producing diagnostic metadata \n",
    "- Loading: \n",
    "    - Structuring and loading the data into the dimensional data model \n"
   ]
  },
  {
   "cell_type": "markdown",
   "id": "528e0aef-4a14-4f13-8951-7cb96bae569c",
   "metadata": {},
   "source": [
    "## Data Marts\n",
    "<img src=\"images/image5.png\" alt=\"Drawing\" style=\"width: 600px;\"/>\n",
    "\n",
    "Independent Data Marts \n",
    "- Departments have independent ETL processes & dimensional models \n",
    "- These separate & smaller dimensional models are called \"Data Marts\" \n",
    "- Different fact tables for the same events, no conformed dimensions \n",
    "- Uncoordinated efforts can lead to Inconsistent views \n",
    "- Despite awareness of the emergence of this architecture from departmental autonomy, it is generally discouraged "
   ]
  },
  {
   "cell_type": "markdown",
   "id": "d71bd5c0-e107-4fa1-aec7-309b3b1856ad",
   "metadata": {},
   "source": [
    "## Inmon's Corporate Information Factory (CIF)\n",
    "\n",
    "<img src=\"images/image6.png\" alt=\"Drawing\" style=\"width: 600px;\"/>\n",
    "\n",
    "**Inmon's Corporate Information Factory (CIF) Data Marts**\n",
    "- 2 ETL Process \n",
    "    - Source systems 3 NF DB \n",
    "    - 3 NF DB Departmental Data Marts \n",
    "- The 3NF DB acts an enterprise wide data store. \n",
    "    - Single integrated source of truth for data-marts \n",
    "    - Could be accessed by end-users if needed \n",
    "- Data marts dimenlionally modelled & unlike Kimball's dimensional models, they are mostly aggregated. "
   ]
  },
  {
   "cell_type": "markdown",
   "id": "3fd98dfa-8535-4731-a4ba-fa72aba4faee",
   "metadata": {},
   "source": [
    "## Hybrid Kimball Bus & Inmon CIF\n",
    "<img src=\"images/image7.png\" alt=\"Drawing\" style=\"width: 600px;\"/>"
   ]
  },
  {
   "cell_type": "markdown",
   "id": "63a1cfb3-974e-48d2-bb45-9ff9ad94fb77",
   "metadata": {},
   "source": [
    "## OLAP Cubes\n",
    " \n",
    "- An OLAP cube is an aggregation of a fact metric on a number of dimensions \n",
    "- E.g. Movie, Branch, Month • Easy to communicate to business users \n",
    "- Common OLAP operations include: Rollup, drill-down, slice, & dice \n",
    "\n",
    "<img src=\"images/image8.png\" alt=\"Drawing\" style=\"width: 600px;\"/>\n",
    "\n",
    "**OLAP Cubes: Roll-Up and Drill Down:** \n",
    "- **Roll-up:** Sum up the sales of each city by Country: e.g. US, France (less columns in branch dimension) \n",
    "- **Drill-Down:** Decompose the sales of each city into smaller districts (more columns in branch dimension) \n",
    "- **The OLAP cubes should store the finest grain of data (atomic data), in case we need to drill-down to the lowest level, \n",
    "  e.g. Country —> City —> District —> Street, etc..** \n",
    "  \n",
    "### Roll-up\n",
    "<img src=\"images/image9.png\" alt=\"Drawing\" style=\"width: 500px;\"/>\n",
    "\n",
    "### Slice \n",
    "<img src=\"images/image10.png\" alt=\"Drawing\" style=\"width: 500px;\"/>\n",
    "\n",
    "### Dice\n",
    "<img src=\"images/image11.png\" alt=\"Drawing\" style=\"width: 500px;\"/>"
   ]
  },
  {
   "cell_type": "markdown",
   "id": "ac13f262-1d13-45f9-8624-00754bdb942d",
   "metadata": {},
   "source": [
    "## OLAP Cubes: Query Optimization\n",
    "- Business users will typically want to slice, dice, rollup and drill-down all the time • \n",
    "- Each such combination will potentially go through all the facts table (suboptimal) • \n",
    "- The \"GROUP by CUBE (movie, branch, month)\" will make pmg pass through the facts table and will aggregate all possible combinations of groupings, of length   0, 1, 2 and 3 \n",
    "  Example:\n",
    "    - Total revenue \n",
    "    - Revenue by movie, Revenue by branch, Revenue by month \n",
    "    - Revenue by movie, branch, Revenue by branch, month, Revenue by movie, month\n",
    "    - Revenue by movie, branch, month \n",
    "- Saving/Materializing the output of the CUBE operation and using it is usually enough to answer all forthcoming aggregations from business users without having to process the whole facts table again \n"
   ]
  },
  {
   "cell_type": "markdown",
   "id": "26614929-794b-431e-b14e-6836341955fc",
   "metadata": {},
   "source": [
    "## RECAP\n",
    "\n",
    "**The Last Mile: Delivering the analytics to users**\n",
    "- Data is available...\n",
    "    - In an understandable & performant dimensional model \n",
    "    - With Conformed Dimensions or separate Data Marts \n",
    "    - For users to report and visualize \n",
    "        - By interacting directly with the model \n",
    "        - Or in most cases, through a BI application \n",
    "- OLAP cubes is a very convenient way for slicing, dicing and drilling down \n",
    "- How do we serve these OLAP cubes? \n",
    "    - Approach 1: Pre-aggregate the OLAP cubes and saves them on a special purpose non-relational database (MOLAP) \n",
    "    - Approach 2: Compute the OLAP cubes on the fly from the existing relational databases where the dimensional model resides (ROLAP) \n",
    "- Demo: Column format in ROLAP \n",
    "    - Use a postgresql with a columnar table extension \n",
    "    - Load a dataset in a normal table \n",
    "    - Load the same dataset in a columnar table \n",
    "    - Compare the performance of the fact-aggregating query performance in both tables "
   ]
  }
 ],
 "metadata": {
  "kernelspec": {
   "display_name": "Python 3",
   "language": "python",
   "name": "python3"
  },
  "language_info": {
   "codemirror_mode": {
    "name": "ipython",
    "version": 3
   },
   "file_extension": ".py",
   "mimetype": "text/x-python",
   "name": "python",
   "nbconvert_exporter": "python",
   "pygments_lexer": "ipython3",
   "version": "3.8.8"
  }
 },
 "nbformat": 4,
 "nbformat_minor": 5
}
